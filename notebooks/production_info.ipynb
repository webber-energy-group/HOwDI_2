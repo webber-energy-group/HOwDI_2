{
 "cells": [
  {
   "cell_type": "code",
   "execution_count": 12,
   "metadata": {},
   "outputs": [],
   "source": [
    "import pandas as pd\n",
    "from HOwDI.util import create_db_engine\n",
    "\n",
    "engine = create_db_engine(\n",
    "    \"sqlite:///C:/Users/bpeco/Box/h2@scale/h2_model/test1030.sqlite\"\n",
    ")"
   ]
  },
  {
   "cell_type": "code",
   "execution_count": 22,
   "metadata": {},
   "outputs": [],
   "source": [
    "uuid = \"e27a3281-beaf-4f93-870f-aebb9b11de68\"\n",
    "q = f\"\"\"SELECT producer, prod_capacity, prod_h, trial FROM 'output-production' WHERE UUID = '{uuid}'\"\"\"\n",
    "\n",
    "production_df = pd.read_sql(q, con=engine).set_index(\"producer\")"
   ]
  },
  {
   "cell_type": "code",
   "execution_count": 25,
   "metadata": {},
   "outputs": [
    {
     "data": {
      "text/html": [
       "<div>\n",
       "<style scoped>\n",
       "    .dataframe tbody tr th:only-of-type {\n",
       "        vertical-align: middle;\n",
       "    }\n",
       "\n",
       "    .dataframe tbody tr th {\n",
       "        vertical-align: top;\n",
       "    }\n",
       "\n",
       "    .dataframe thead th {\n",
       "        text-align: right;\n",
       "    }\n",
       "</style>\n",
       "<table border=\"1\" class=\"dataframe\">\n",
       "  <thead>\n",
       "    <tr style=\"text-align: right;\">\n",
       "      <th></th>\n",
       "      <th></th>\n",
       "      <th>prod_capacity</th>\n",
       "      <th>prod_h</th>\n",
       "    </tr>\n",
       "    <tr>\n",
       "      <th>producer_type</th>\n",
       "      <th>trial</th>\n",
       "      <th></th>\n",
       "      <th></th>\n",
       "    </tr>\n",
       "  </thead>\n",
       "  <tbody>\n",
       "    <tr>\n",
       "      <th>electrolyzer-RE</th>\n",
       "      <th>0</th>\n",
       "      <td>25807.650850</td>\n",
       "      <td>1.032306e+04</td>\n",
       "    </tr>\n",
       "    <tr>\n",
       "      <th rowspan=\"4\" valign=\"top\">smr-high</th>\n",
       "      <th>1</th>\n",
       "      <td>2884.456967</td>\n",
       "      <td>2.596011e+03</td>\n",
       "    </tr>\n",
       "    <tr>\n",
       "      <th>2</th>\n",
       "      <td>4643.345356</td>\n",
       "      <td>4.179011e+03</td>\n",
       "    </tr>\n",
       "    <tr>\n",
       "      <th>3</th>\n",
       "      <td>3231.263922</td>\n",
       "      <td>2.789152e+03</td>\n",
       "    </tr>\n",
       "    <tr>\n",
       "      <th>4</th>\n",
       "      <td>3280.157356</td>\n",
       "      <td>2.789156e+03</td>\n",
       "    </tr>\n",
       "    <tr>\n",
       "      <th>smr-high-ptc</th>\n",
       "      <th>1</th>\n",
       "      <td>300.000000</td>\n",
       "      <td>2.700000e+02</td>\n",
       "    </tr>\n",
       "    <tr>\n",
       "      <th rowspan=\"5\" valign=\"top\">smrExisting</th>\n",
       "      <th>0</th>\n",
       "      <td>8371.000000</td>\n",
       "      <td>5.494712e-09</td>\n",
       "    </tr>\n",
       "    <tr>\n",
       "      <th>1</th>\n",
       "      <td>8371.000000</td>\n",
       "      <td>7.457048e+03</td>\n",
       "    </tr>\n",
       "    <tr>\n",
       "      <th>2</th>\n",
       "      <td>8371.000000</td>\n",
       "      <td>6.144047e+03</td>\n",
       "    </tr>\n",
       "    <tr>\n",
       "      <th>3</th>\n",
       "      <td>8371.000000</td>\n",
       "      <td>7.533900e+03</td>\n",
       "    </tr>\n",
       "    <tr>\n",
       "      <th>4</th>\n",
       "      <td>8371.000000</td>\n",
       "      <td>7.533900e+03</td>\n",
       "    </tr>\n",
       "  </tbody>\n",
       "</table>\n",
       "</div>"
      ],
      "text/plain": [
       "                       prod_capacity        prod_h\n",
       "producer_type   trial                             \n",
       "electrolyzer-RE 0       25807.650850  1.032306e+04\n",
       "smr-high        1        2884.456967  2.596011e+03\n",
       "                2        4643.345356  4.179011e+03\n",
       "                3        3231.263922  2.789152e+03\n",
       "                4        3280.157356  2.789156e+03\n",
       "smr-high-ptc    1         300.000000  2.700000e+02\n",
       "smrExisting     0        8371.000000  5.494712e-09\n",
       "                1        8371.000000  7.457048e+03\n",
       "                2        8371.000000  6.144047e+03\n",
       "                3        8371.000000  7.533900e+03\n",
       "                4        8371.000000  7.533900e+03"
      ]
     },
     "execution_count": 25,
     "metadata": {},
     "output_type": "execute_result"
    }
   ],
   "source": [
    "production_df[\"producer_type\"] = production_df.index.str.split(\"_\").str[-1]\n",
    "production_summary = production_df.groupby([\"producer_type\",\"trial\"]).sum()\n",
    "production_summary"
   ]
  }
 ],
 "metadata": {
  "kernelspec": {
   "display_name": "Python 3.8.13 ('HOwDI')",
   "language": "python",
   "name": "python3"
  },
  "language_info": {
   "codemirror_mode": {
    "name": "ipython",
    "version": 3
   },
   "file_extension": ".py",
   "mimetype": "text/x-python",
   "name": "python",
   "nbconvert_exporter": "python",
   "pygments_lexer": "ipython3",
   "version": "3.8.13"
  },
  "orig_nbformat": 4,
  "vscode": {
   "interpreter": {
    "hash": "20a16028172c460e9252c0fc2d046a94183279b12b3d537cf65279fa46b786f8"
   }
  }
 },
 "nbformat": 4,
 "nbformat_minor": 2
}
